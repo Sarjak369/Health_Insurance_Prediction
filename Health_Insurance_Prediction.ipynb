{
 "cells": [
  {
   "cell_type": "markdown",
   "id": "6f3f69ba",
   "metadata": {},
   "source": [
    "## Predicting Health Insurance Charges with Machine Learning"
   ]
  },
  {
   "cell_type": "markdown",
   "id": "0e2a0f00",
   "metadata": {},
   "source": [
    "### Health Insurance Policies"
   ]
  },
  {
   "cell_type": "markdown",
   "id": "efbccf20",
   "metadata": {},
   "source": [
    "When you have a health insurance policy it covers or minimizes the expenses you will pay for health care services. A variety of factors influence the cost of an insurance policy. These include the following:\n",
    "\n",
    "1. Age — Premiums can be up to 3 times higher for older people than for younger ones.\n",
    "\n",
    "2. Location — Where you live has an effect on your premiums. Differences in competition, state and local rules and cost of living make a difference.\n",
    "\n",
    "3. Tobacco Use — Insurers can charge tobacco users up to 50% more than those who don’t use tobacco.\n",
    "\n",
    "4. Individual vs Family — Insurers can charge more for a plan that also covers a spouse and/or dependents.\n",
    "\n",
    "5. Plan Category — There are five plan categories including Bronze, Silver, Gold, Platinum, and Catastrophic. The categories are based on how you and the plan share costs. Bronze plans usually have lower monthly premiums and higher out-of-pocket costs when you get care. Platinum plans usually have the highest premiums and lowest out-of-pocket costs.\n",
    "\n",
    "According to the Kaiser Family Foundation, in 2020 the average annual cost of health insurance in the United States is $7,470 for an individual and $21,342 for a family.\n",
    "\n"
   ]
  },
  {
   "cell_type": "markdown",
   "id": "3e8ff5a5",
   "metadata": {},
   "source": [
    "### Health Insurance Claims"
   ]
  },
  {
   "cell_type": "markdown",
   "id": "426e7adf",
   "metadata": {},
   "source": [
    "A health insurance claim is a request made for direct payment or reimbursement for medical services that an insured person has obtained. Health insurance benefits or payments are obtained after the insured or health care provider submits a claim to their insurer.\n",
    "\n",
    "Change Healthcare found there were `$3 trillion dollars of medical insurance claims submitted by hospitals in the United States in 2016. $262 billion of those charges were initially denied.`"
   ]
  },
  {
   "cell_type": "markdown",
   "id": "11206e84",
   "metadata": {},
   "source": [
    "### Predicting Health Care Expenses"
   ]
  },
  {
   "cell_type": "markdown",
   "id": "9fc1eb4e",
   "metadata": {},
   "source": [
    "Models for accurately predicting individual health care expenses would be very beneficial to insurance companies, health care providers, and those insured under an insurance policy. Accurate cost estimates can help health insurers and health care providers plan for the future and prioritize the allocation of healthcare resources. In addition, the insured can know in advance what their probable expenses will be in the future and can assist them in selecting insurance plans with appropriate deductibles and premiums.\n",
    "\n",
    "The objective of this project is to accurately predict insurance costs based on the characteristics of the policyholders. In addition, we will determine the most important variable in influencing insurance costs. These estimates can be used by health insurers to set the price of yearly premiums higher or lower depending on the expected treatment costs."
   ]
  },
  {
   "cell_type": "markdown",
   "id": "61646a5c",
   "metadata": {},
   "source": [
    "The following steps will be performed using machine learning and Python.\n",
    "\n",
    "1. Import the required software libraries.\n",
    "\n",
    "2. Load and Import the dataset.\n",
    "\n",
    "3. Data Analysis and Exploration.\n",
    "\n",
    "4. Feature Selection.\n",
    "\n",
    "5. Split data into training and test data sets.\n",
    "\n",
    "6. Normalize the Data.\n",
    "\n",
    "7. Train the model on the training data.\n",
    "\n",
    "8. Make predictions on the test data.\n",
    "\n",
    "9. Evaluate the model’s performance.\n",
    "\n",
    "10. Draw conclusions from evaluations."
   ]
  },
  {
   "cell_type": "markdown",
   "id": "c40e2c40",
   "metadata": {},
   "source": [
    "#### Objective: Predict medical insurance costs based on the characteristics of the policyholders."
   ]
  },
  {
   "cell_type": "code",
   "execution_count": 3,
   "id": "ac60e6d8",
   "metadata": {},
   "outputs": [],
   "source": [
    "# Importing the required libraries\n",
    "\n",
    "import pandas as pd\n",
    "import numpy as np\n",
    "import matplotlib.pyplot as plt\n",
    "import seaborn as sns\n",
    "from sklearn.preprocessing import StandardScaler\n",
    "from sklearn.model_selection import train_test_split\n",
    "from sklearn.linear_model import LinearRegression\n",
    "from sklearn.ensemble import RandomForestRegressor\n",
    "from sklearn.svm import SVR"
   ]
  },
  {
   "cell_type": "code",
   "execution_count": 4,
   "id": "14d8d906",
   "metadata": {},
   "outputs": [],
   "source": [
    "# Importing the data set into a dataframe\n",
    "\n",
    "insurance = pd.read_csv('/Users/sarju/Desktop/Projects_2023/Health_Insurance_Prediction/insurance.csv')\n"
   ]
  },
  {
   "cell_type": "markdown",
   "id": "557d7004",
   "metadata": {},
   "source": [
    "### Data Analysis and Exploration"
   ]
  },
  {
   "cell_type": "code",
   "execution_count": 5,
   "id": "bec9fe3f",
   "metadata": {},
   "outputs": [
    {
     "data": {
      "text/html": [
       "<div>\n",
       "<style scoped>\n",
       "    .dataframe tbody tr th:only-of-type {\n",
       "        vertical-align: middle;\n",
       "    }\n",
       "\n",
       "    .dataframe tbody tr th {\n",
       "        vertical-align: top;\n",
       "    }\n",
       "\n",
       "    .dataframe thead th {\n",
       "        text-align: right;\n",
       "    }\n",
       "</style>\n",
       "<table border=\"1\" class=\"dataframe\">\n",
       "  <thead>\n",
       "    <tr style=\"text-align: right;\">\n",
       "      <th></th>\n",
       "      <th>age</th>\n",
       "      <th>sex</th>\n",
       "      <th>bmi</th>\n",
       "      <th>children</th>\n",
       "      <th>smoker</th>\n",
       "      <th>region</th>\n",
       "      <th>charges</th>\n",
       "    </tr>\n",
       "  </thead>\n",
       "  <tbody>\n",
       "    <tr>\n",
       "      <th>0</th>\n",
       "      <td>19</td>\n",
       "      <td>female</td>\n",
       "      <td>27.900</td>\n",
       "      <td>0</td>\n",
       "      <td>yes</td>\n",
       "      <td>southwest</td>\n",
       "      <td>16884.92400</td>\n",
       "    </tr>\n",
       "    <tr>\n",
       "      <th>1</th>\n",
       "      <td>18</td>\n",
       "      <td>male</td>\n",
       "      <td>33.770</td>\n",
       "      <td>1</td>\n",
       "      <td>no</td>\n",
       "      <td>southeast</td>\n",
       "      <td>1725.55230</td>\n",
       "    </tr>\n",
       "    <tr>\n",
       "      <th>2</th>\n",
       "      <td>28</td>\n",
       "      <td>male</td>\n",
       "      <td>33.000</td>\n",
       "      <td>3</td>\n",
       "      <td>no</td>\n",
       "      <td>southeast</td>\n",
       "      <td>4449.46200</td>\n",
       "    </tr>\n",
       "    <tr>\n",
       "      <th>3</th>\n",
       "      <td>33</td>\n",
       "      <td>male</td>\n",
       "      <td>22.705</td>\n",
       "      <td>0</td>\n",
       "      <td>no</td>\n",
       "      <td>northwest</td>\n",
       "      <td>21984.47061</td>\n",
       "    </tr>\n",
       "    <tr>\n",
       "      <th>4</th>\n",
       "      <td>32</td>\n",
       "      <td>male</td>\n",
       "      <td>28.880</td>\n",
       "      <td>0</td>\n",
       "      <td>no</td>\n",
       "      <td>northwest</td>\n",
       "      <td>3866.85520</td>\n",
       "    </tr>\n",
       "  </tbody>\n",
       "</table>\n",
       "</div>"
      ],
      "text/plain": [
       "   age     sex     bmi  children smoker     region      charges\n",
       "0   19  female  27.900         0    yes  southwest  16884.92400\n",
       "1   18    male  33.770         1     no  southeast   1725.55230\n",
       "2   28    male  33.000         3     no  southeast   4449.46200\n",
       "3   33    male  22.705         0     no  northwest  21984.47061\n",
       "4   32    male  28.880         0     no  northwest   3866.85520"
      ]
     },
     "execution_count": 5,
     "metadata": {},
     "output_type": "execute_result"
    }
   ],
   "source": [
    "# Printing first 5 rows of the data frame\n",
    "\n",
    "insurance.head()"
   ]
  },
  {
   "cell_type": "markdown",
   "id": "ad4fd8f7",
   "metadata": {},
   "source": [
    "This dataset was found on Kaggle (https://www.kaggle.com/datasets/mirichoi0218/insurance?resource=download)\n",
    "The data set was based on Miri Choi’s Medical Cost Personal Datasets."
   ]
  },
  {
   "cell_type": "markdown",
   "id": "5367fdb6",
   "metadata": {},
   "source": [
    "The columns and definitions are described below.\n",
    "\n",
    "age — age of the policyholder.\n",
    "\n",
    "sex — gender of the policy holder (female, male).\n",
    "\n",
    "BMI — Body mass index, providing an understanding of the body, weights that are relatively high or low relative to height, objective index of body weight (kg / m ^ 2) using the ratio of height to weight, ideally 18.5 to 25.\n",
    "\n",
    "children — number of children/dependents of the policyholder.\n",
    "\n",
    "smoker — smoking status of the policyholder (non-smoker=no, smoker=yes).\n",
    "\n",
    "region — the residential area of the policyholder in the US (northeast, northwest, southeast, and southwest).\n",
    "\n",
    "charges — individual medical costs billed by health insurance (US Dollars)."
   ]
  },
  {
   "cell_type": "code",
   "execution_count": 7,
   "id": "d22e908c",
   "metadata": {
    "scrolled": true
   },
   "outputs": [
    {
     "name": "stdout",
     "output_type": "stream",
     "text": [
      "<class 'pandas.core.frame.DataFrame'>\n",
      "RangeIndex: 1338 entries, 0 to 1337\n",
      "Data columns (total 7 columns):\n",
      " #   Column    Non-Null Count  Dtype  \n",
      "---  ------    --------------  -----  \n",
      " 0   age       1338 non-null   int64  \n",
      " 1   sex       1338 non-null   object \n",
      " 2   bmi       1338 non-null   float64\n",
      " 3   children  1338 non-null   int64  \n",
      " 4   smoker    1338 non-null   object \n",
      " 5   region    1338 non-null   object \n",
      " 6   charges   1338 non-null   float64\n",
      "dtypes: float64(2), int64(2), object(3)\n",
      "memory usage: 73.3+ KB\n"
     ]
    }
   ],
   "source": [
    "insurance.info()"
   ]
  },
  {
   "cell_type": "markdown",
   "id": "b54a9704",
   "metadata": {},
   "source": [
    "Summary:\n",
    "\n",
    "- There are 1,338 insurance records with 7 variables.\n",
    "\n",
    "- The data set does not have any null or missing values.\n",
    "\n",
    "- There are categorical and numerical data types."
   ]
  },
  {
   "cell_type": "code",
   "execution_count": 8,
   "id": "a79d306d",
   "metadata": {},
   "outputs": [
    {
     "data": {
      "text/html": [
       "<div>\n",
       "<style scoped>\n",
       "    .dataframe tbody tr th:only-of-type {\n",
       "        vertical-align: middle;\n",
       "    }\n",
       "\n",
       "    .dataframe tbody tr th {\n",
       "        vertical-align: top;\n",
       "    }\n",
       "\n",
       "    .dataframe thead th {\n",
       "        text-align: right;\n",
       "    }\n",
       "</style>\n",
       "<table border=\"1\" class=\"dataframe\">\n",
       "  <thead>\n",
       "    <tr style=\"text-align: right;\">\n",
       "      <th></th>\n",
       "      <th>age</th>\n",
       "      <th>bmi</th>\n",
       "      <th>children</th>\n",
       "      <th>charges</th>\n",
       "    </tr>\n",
       "  </thead>\n",
       "  <tbody>\n",
       "    <tr>\n",
       "      <th>count</th>\n",
       "      <td>1338.000000</td>\n",
       "      <td>1338.000000</td>\n",
       "      <td>1338.000000</td>\n",
       "      <td>1338.000000</td>\n",
       "    </tr>\n",
       "    <tr>\n",
       "      <th>mean</th>\n",
       "      <td>39.207025</td>\n",
       "      <td>30.663397</td>\n",
       "      <td>1.094918</td>\n",
       "      <td>13270.422265</td>\n",
       "    </tr>\n",
       "    <tr>\n",
       "      <th>std</th>\n",
       "      <td>14.049960</td>\n",
       "      <td>6.098187</td>\n",
       "      <td>1.205493</td>\n",
       "      <td>12110.011237</td>\n",
       "    </tr>\n",
       "    <tr>\n",
       "      <th>min</th>\n",
       "      <td>18.000000</td>\n",
       "      <td>15.960000</td>\n",
       "      <td>0.000000</td>\n",
       "      <td>1121.873900</td>\n",
       "    </tr>\n",
       "    <tr>\n",
       "      <th>25%</th>\n",
       "      <td>27.000000</td>\n",
       "      <td>26.296250</td>\n",
       "      <td>0.000000</td>\n",
       "      <td>4740.287150</td>\n",
       "    </tr>\n",
       "    <tr>\n",
       "      <th>50%</th>\n",
       "      <td>39.000000</td>\n",
       "      <td>30.400000</td>\n",
       "      <td>1.000000</td>\n",
       "      <td>9382.033000</td>\n",
       "    </tr>\n",
       "    <tr>\n",
       "      <th>75%</th>\n",
       "      <td>51.000000</td>\n",
       "      <td>34.693750</td>\n",
       "      <td>2.000000</td>\n",
       "      <td>16639.912515</td>\n",
       "    </tr>\n",
       "    <tr>\n",
       "      <th>max</th>\n",
       "      <td>64.000000</td>\n",
       "      <td>53.130000</td>\n",
       "      <td>5.000000</td>\n",
       "      <td>63770.428010</td>\n",
       "    </tr>\n",
       "  </tbody>\n",
       "</table>\n",
       "</div>"
      ],
      "text/plain": [
       "               age          bmi     children       charges\n",
       "count  1338.000000  1338.000000  1338.000000   1338.000000\n",
       "mean     39.207025    30.663397     1.094918  13270.422265\n",
       "std      14.049960     6.098187     1.205493  12110.011237\n",
       "min      18.000000    15.960000     0.000000   1121.873900\n",
       "25%      27.000000    26.296250     0.000000   4740.287150\n",
       "50%      39.000000    30.400000     1.000000   9382.033000\n",
       "75%      51.000000    34.693750     2.000000  16639.912515\n",
       "max      64.000000    53.130000     5.000000  63770.428010"
      ]
     },
     "execution_count": 8,
     "metadata": {},
     "output_type": "execute_result"
    }
   ],
   "source": [
    "# Show statistics on the data frame.\n",
    "\n",
    "insurance.describe()"
   ]
  },
  {
   "cell_type": "markdown",
   "id": "552e7e79",
   "metadata": {},
   "source": [
    "Observations:\n",
    "\n",
    "- The average age is 39 years.\n",
    "\n",
    "- The average body mass index is 30.66.\n",
    "\n",
    "- The average number of children is 1.\n",
    "\n",
    "- The average claims charge was $13,270."
   ]
  },
  {
   "cell_type": "markdown",
   "id": "47d85ab4",
   "metadata": {},
   "source": [
    "### Visualize the relationship between age and claim charges"
   ]
  },
  {
   "cell_type": "code",
   "execution_count": 9,
   "id": "ac21289e",
   "metadata": {},
   "outputs": [
    {
     "data": {
      "text/plain": [
       "Text(0, 0.5, 'Claim Charges ($)')"
      ]
     },
     "execution_count": 9,
     "metadata": {},
     "output_type": "execute_result"
    },
    {
     "data": {
      "image/png": "[encoded data removed]",
      "text/plain": [
       "<Figure size 1000x600 with 1 Axes>"
      ]
     },
     "metadata": {},
     "output_type": "display_data"
    }
   ],
   "source": [
    "fig = plt.figure(figsize = (10, 6))\n",
    "sns.barplot(y = 'charges', \n",
    "            x = 'age', \n",
    "            data = insurance,\n",
    "            ci = None)\n",
    "\n",
    "# set labels\n",
    "plt.xlabel(\"Age\", size=12)\n",
    "plt.ylabel(\"Claim Charges ($)\", size=12)"
   ]
  },
  {
   "cell_type": "markdown",
   "id": "f0fbcdfc",
   "metadata": {},
   "source": [
    "### Visualize the relationship between gender and claim charges"
   ]
  },
  {
   "cell_type": "code",
   "execution_count": 10,
   "id": "848b5b53",
   "metadata": {},
   "outputs": [
    {
     "data": {
      "text/plain": [
       "Text(0, 0.5, 'Claim Charges ($)')"
      ]
     },
     "execution_count": 10,
     "metadata": {},
     "output_type": "execute_result"
    },
    {
     "data": {
      "image/png": "[encoded data removed]",
      "text/plain": [
       "<Figure size 600x400 with 1 Axes>"
      ]
     },
     "metadata": {},
     "output_type": "display_data"
    }
   ],
   "source": [
    "fig = plt.figure(figsize = (6,4))\n",
    "sns.barplot(y = 'charges', \n",
    "            x = 'sex', \n",
    "            data = insurance,\n",
    "            ci = None)\n",
    "plt.xticks(ticks=[0, 1], labels = [\"Female\", \"Male\"])\n",
    "\n",
    "# set labels\n",
    "plt.xlabel(\"Gender\", size=12)\n",
    "plt.ylabel(\"Claim Charges ($)\", size=12)"
   ]
  },
  {
   "cell_type": "markdown",
   "id": "f621b58d",
   "metadata": {},
   "source": [
    "### Check the body mass index (BMI) column for variances in the values"
   ]
  },
  {
   "cell_type": "code",
   "execution_count": 11,
   "id": "505f9133",
   "metadata": {},
   "outputs": [
    {
     "data": {
      "text/plain": [
       "(15.96, 53.13)"
      ]
     },
     "execution_count": 11,
     "metadata": {},
     "output_type": "execute_result"
    }
   ],
   "source": [
    "min(insurance.bmi), max(insurance.bmi)\n",
    "(15.96, 53.13)"
   ]
  },
  {
   "cell_type": "markdown",
   "id": "68f73752",
   "metadata": {},
   "source": [
    "There is a broad range of variances in body mass index (BMI) values. In order to visualize data for this feature, we will need to add a new BMI class variable and create groups with specific BMI values."
   ]
  },
  {
   "cell_type": "code",
   "execution_count": 12,
   "id": "b9df25a3",
   "metadata": {},
   "outputs": [
    {
     "data": {
      "text/html": [
       "<div>\n",
       "<style scoped>\n",
       "    .dataframe tbody tr th:only-of-type {\n",
       "        vertical-align: middle;\n",
       "    }\n",
       "\n",
       "    .dataframe tbody tr th {\n",
       "        vertical-align: top;\n",
       "    }\n",
       "\n",
       "    .dataframe thead th {\n",
       "        text-align: right;\n",
       "    }\n",
       "</style>\n",
       "<table border=\"1\" class=\"dataframe\">\n",
       "  <thead>\n",
       "    <tr style=\"text-align: right;\">\n",
       "      <th></th>\n",
       "      <th>age</th>\n",
       "      <th>sex</th>\n",
       "      <th>bmi</th>\n",
       "      <th>children</th>\n",
       "      <th>smoker</th>\n",
       "      <th>region</th>\n",
       "      <th>charges</th>\n",
       "      <th>bmiclass</th>\n",
       "    </tr>\n",
       "  </thead>\n",
       "  <tbody>\n",
       "    <tr>\n",
       "      <th>0</th>\n",
       "      <td>19</td>\n",
       "      <td>female</td>\n",
       "      <td>27.900</td>\n",
       "      <td>0</td>\n",
       "      <td>yes</td>\n",
       "      <td>southwest</td>\n",
       "      <td>16884.92400</td>\n",
       "      <td>3.0</td>\n",
       "    </tr>\n",
       "    <tr>\n",
       "      <th>1</th>\n",
       "      <td>18</td>\n",
       "      <td>male</td>\n",
       "      <td>33.770</td>\n",
       "      <td>1</td>\n",
       "      <td>no</td>\n",
       "      <td>southeast</td>\n",
       "      <td>1725.55230</td>\n",
       "      <td>4.0</td>\n",
       "    </tr>\n",
       "    <tr>\n",
       "      <th>2</th>\n",
       "      <td>28</td>\n",
       "      <td>male</td>\n",
       "      <td>33.000</td>\n",
       "      <td>3</td>\n",
       "      <td>no</td>\n",
       "      <td>southeast</td>\n",
       "      <td>4449.46200</td>\n",
       "      <td>3.0</td>\n",
       "    </tr>\n",
       "    <tr>\n",
       "      <th>3</th>\n",
       "      <td>33</td>\n",
       "      <td>male</td>\n",
       "      <td>22.705</td>\n",
       "      <td>0</td>\n",
       "      <td>no</td>\n",
       "      <td>northwest</td>\n",
       "      <td>21984.47061</td>\n",
       "      <td>2.0</td>\n",
       "    </tr>\n",
       "    <tr>\n",
       "      <th>4</th>\n",
       "      <td>32</td>\n",
       "      <td>male</td>\n",
       "      <td>28.880</td>\n",
       "      <td>0</td>\n",
       "      <td>no</td>\n",
       "      <td>northwest</td>\n",
       "      <td>3866.85520</td>\n",
       "      <td>3.0</td>\n",
       "    </tr>\n",
       "  </tbody>\n",
       "</table>\n",
       "</div>"
      ],
      "text/plain": [
       "   age     sex     bmi  children smoker     region      charges  bmiclass\n",
       "0   19  female  27.900         0    yes  southwest  16884.92400       3.0\n",
       "1   18    male  33.770         1     no  southeast   1725.55230       4.0\n",
       "2   28    male  33.000         3     no  southeast   4449.46200       3.0\n",
       "3   33    male  22.705         0     no  northwest  21984.47061       2.0\n",
       "4   32    male  28.880         0     no  northwest   3866.85520       3.0"
      ]
     },
     "execution_count": 12,
     "metadata": {},
     "output_type": "execute_result"
    }
   ],
   "source": [
    "insurance[\"bmiclass\"] = insurance.bmi\n",
    "insurance.bmiclass = insurance.bmi.round()\n",
    "insurance.head(5)\n",
    "insurance['bmiclass'] = insurance['bmiclass'].replace([16, 17, 18, 19, 20, 21], 1)\n",
    "insurance['bmiclass'] = insurance['bmiclass'].replace([22, 23, 24, 25, 26, 27], 2)\n",
    "insurance['bmiclass'] = insurance['bmiclass'].replace([28, 29, 30, 31, 32, 33], 3)\n",
    "insurance['bmiclass'] = insurance['bmiclass'].replace([34, 35, 36, 37, 38, 39], 4)\n",
    "insurance['bmiclass'] = insurance['bmiclass'].replace([40, 41, 42, 43, 44, 45], 5)\n",
    "insurance['bmiclass'] = insurance['bmiclass'].replace([46, 47, 48, 49, 50, 51, 52, 53], 6)\n",
    "insurance.head(5)"
   ]
  },
  {
   "cell_type": "markdown",
   "id": "6b54a836",
   "metadata": {},
   "source": [
    "### Visualize the relationship between body mass index and the amount of claim charges"
   ]
  },
  {
   "cell_type": "code",
   "execution_count": 13,
   "id": "f15d5894",
   "metadata": {},
   "outputs": [
    {
     "data": {
      "text/plain": [
       "Text(0, 0.5, 'Claim Charges ($)')"
      ]
     },
     "execution_count": 13,
     "metadata": {},
     "output_type": "execute_result"
    },
    {
     "data": {
      "image/png": "[encoded data removed]",
      "text/plain": [
       "<Figure size 600x400 with 1 Axes>"
      ]
     },
     "metadata": {},
     "output_type": "display_data"
    }
   ],
   "source": [
    "fig = plt.figure(figsize = (6,4))\n",
    "sns.barplot(y = 'charges', \n",
    "            x = 'bmiclass', \n",
    "            data = insurance,\n",
    "            ci = None)\n",
    "plt.xticks(ticks=[0, 1, 2, 3, 4, 5], labels = [\"16 - 21\", \"22 - 27\", \"28 - 33\", \"34 - 39\", \"40 - 45\", \"46 - 53\"]) \n",
    "# set labels\n",
    "\n",
    "plt.xlabel(\"Body Mass Index\", size=12)\n",
    "plt.ylabel(\"Claim Charges ($)\", size=12)"
   ]
  },
  {
   "cell_type": "markdown",
   "id": "7e2c0014",
   "metadata": {},
   "source": [
    "### Visualize the relationship between a number of children and amount of claim charges"
   ]
  },
  {
   "cell_type": "code",
   "execution_count": 14,
   "id": "e55e572f",
   "metadata": {},
   "outputs": [
    {
     "data": {
      "text/plain": [
       "Text(0, 0.5, 'Claim Charges ($)')"
      ]
     },
     "execution_count": 14,
     "metadata": {},
     "output_type": "execute_result"
    },
    {
     "data": {
      "image/png": "[encoded data removed]",
      "text/plain": [
       "<Figure size 600x400 with 1 Axes>"
      ]
     },
     "metadata": {},
     "output_type": "display_data"
    }
   ],
   "source": [
    "fig = plt.figure(figsize = (6,4))\n",
    "sns.barplot(y = 'charges', \n",
    "            x = 'children', \n",
    "            data = insurance,\n",
    "            ci = None)\n",
    "\n",
    "# set labels\n",
    "plt.xlabel(\"Number of Children\", size=12)\n",
    "plt.ylabel(\"Claim Charges ($)\", size=12)"
   ]
  },
  {
   "cell_type": "markdown",
   "id": "67332566",
   "metadata": {},
   "source": [
    "### Visualize the relationship between smoker/non-smoker and the amount of claim charges."
   ]
  },
  {
   "cell_type": "code",
   "execution_count": 15,
   "id": "3733c34b",
   "metadata": {},
   "outputs": [
    {
     "data": {
      "text/plain": [
       "Text(0, 0.5, 'Claim Charges ($)')"
      ]
     },
     "execution_count": 15,
     "metadata": {},
     "output_type": "execute_result"
    },
    {
     "data": {
      "image/png": "[encoded data removed]",
      "text/plain": [
       "<Figure size 600x400 with 1 Axes>"
      ]
     },
     "metadata": {},
     "output_type": "display_data"
    }
   ],
   "source": [
    "fig = plt.figure(figsize = (6,4))\n",
    "sns.barplot(y = 'charges', \n",
    "            x = 'smoker', \n",
    "            data = insurance,\n",
    "            ci = None)\n",
    " \n",
    "# set labels\n",
    "plt.xlabel(\"Smoker\", size=12)\n",
    "plt.ylabel(\"Claim Charges ($)\", size=12)"
   ]
  },
  {
   "cell_type": "markdown",
   "id": "73af46ba",
   "metadata": {},
   "source": [
    "### Visualize the relationship between region and amount of claim charges\n",
    "\n"
   ]
  },
  {
   "cell_type": "code",
   "execution_count": 16,
   "id": "4d938f8d",
   "metadata": {},
   "outputs": [
    {
     "data": {
      "text/plain": [
       "Text(0, 0.5, 'Claim Charges ($)')"
      ]
     },
     "execution_count": 16,
     "metadata": {},
     "output_type": "execute_result"
    },
    {
     "data": {
      "image/png": "[encoded data removed]",
      "text/plain": [
       "<Figure size 600x400 with 1 Axes>"
      ]
     },
     "metadata": {},
     "output_type": "display_data"
    }
   ],
   "source": [
    "fig = plt.figure(figsize = (6,4))\n",
    "sns.barplot(y = 'charges', \n",
    "            x = 'region', \n",
    "            data = insurance,\n",
    "            ci = None)\n",
    "plt.xticks(ticks=[0, 1, 2, 3], labels = [\"Northeast\", \"Northwest\", \"Southeast\", \"Southwest\"]) \n",
    "\n",
    "# set labels\n",
    "plt.xlabel(\"Region\", size=12)\n",
    "plt.ylabel(\"Claim Charges ($)\", size=12)"
   ]
  },
  {
   "cell_type": "markdown",
   "id": "c9d5a318",
   "metadata": {},
   "source": [
    "Observations:\n",
    "\n",
    "- As age increases there is a gradual increase in claim charges.\n",
    "\n",
    "- Claim charges are slightly higher for males.\n",
    "\n",
    "- As body mass index increases there is an increase in claim charges. It is interesting that claim charges decrease -slightly in the 40–45 BMI group.\n",
    "\n",
    "- Claim charges are higher when there are 2 or 3 children under the policy.\n",
    "\n",
    "- Claim charges are significantly higher among smokers.\n",
    "\n",
    "- Claim charges are similar across all regions with Northwest showing the highest charges."
   ]
  },
  {
   "cell_type": "code",
   "execution_count": 17,
   "id": "a06f0c00",
   "metadata": {},
   "outputs": [
    {
     "data": {
      "text/plain": [
       "(1121.8739, 63770.42801)"
      ]
     },
     "execution_count": 17,
     "metadata": {},
     "output_type": "execute_result"
    }
   ],
   "source": [
    "# Checking the charges column for variances in the values\n",
    "\n",
    "\n",
    "min(insurance.charges), max(insurance.charges)\n",
    "(1121.8739, 63770.42801)"
   ]
  },
  {
   "cell_type": "markdown",
   "id": "6c675c77",
   "metadata": {},
   "source": [
    "There is a broad range of variances in the values for the charges variable."
   ]
  },
  {
   "cell_type": "markdown",
   "id": "8c2f84b9",
   "metadata": {},
   "source": [
    "### Visualize the distribution of values for claim charges"
   ]
  },
  {
   "cell_type": "code",
   "execution_count": 18,
   "id": "e264e479",
   "metadata": {},
   "outputs": [
    {
     "data": {
      "text/plain": [
       "<AxesSubplot: xlabel='charges', ylabel='Count'>"
      ]
     },
     "execution_count": 18,
     "metadata": {},
     "output_type": "execute_result"
    },
    {
     "data": {
      "image/png": "[encoded data removed]",
      "text/plain": [
       "<Figure size 600x400 with 1 Axes>"
      ]
     },
     "metadata": {},
     "output_type": "display_data"
    }
   ],
   "source": [
    "plt.figure(figsize=(6, 4))\n",
    "sns.histplot(insurance['charges'])"
   ]
  },
  {
   "cell_type": "markdown",
   "id": "47189ec7",
   "metadata": {},
   "source": [
    "The charge values are skewed to the right side of the axis. We will use min and max scaling in sklearn to normalize the charges. This will convert the values of the charges to a range between 0 and 1, which will make it easier for the data to be processed in the models."
   ]
  },
  {
   "cell_type": "code",
   "execution_count": 19,
   "id": "b46f358e",
   "metadata": {},
   "outputs": [
    {
     "data": {
      "text/html": [
       "<div>\n",
       "<style scoped>\n",
       "    .dataframe tbody tr th:only-of-type {\n",
       "        vertical-align: middle;\n",
       "    }\n",
       "\n",
       "    .dataframe tbody tr th {\n",
       "        vertical-align: top;\n",
       "    }\n",
       "\n",
       "    .dataframe thead th {\n",
       "        text-align: right;\n",
       "    }\n",
       "</style>\n",
       "<table border=\"1\" class=\"dataframe\">\n",
       "  <thead>\n",
       "    <tr style=\"text-align: right;\">\n",
       "      <th></th>\n",
       "      <th>age</th>\n",
       "      <th>sex</th>\n",
       "      <th>bmi</th>\n",
       "      <th>children</th>\n",
       "      <th>smoker</th>\n",
       "      <th>region</th>\n",
       "      <th>charges</th>\n",
       "      <th>bmiclass</th>\n",
       "    </tr>\n",
       "  </thead>\n",
       "  <tbody>\n",
       "    <tr>\n",
       "      <th>0</th>\n",
       "      <td>19</td>\n",
       "      <td>female</td>\n",
       "      <td>27.900</td>\n",
       "      <td>0</td>\n",
       "      <td>yes</td>\n",
       "      <td>southwest</td>\n",
       "      <td>0.251611</td>\n",
       "      <td>3.0</td>\n",
       "    </tr>\n",
       "    <tr>\n",
       "      <th>1</th>\n",
       "      <td>18</td>\n",
       "      <td>male</td>\n",
       "      <td>33.770</td>\n",
       "      <td>1</td>\n",
       "      <td>no</td>\n",
       "      <td>southeast</td>\n",
       "      <td>0.009636</td>\n",
       "      <td>4.0</td>\n",
       "    </tr>\n",
       "    <tr>\n",
       "      <th>2</th>\n",
       "      <td>28</td>\n",
       "      <td>male</td>\n",
       "      <td>33.000</td>\n",
       "      <td>3</td>\n",
       "      <td>no</td>\n",
       "      <td>southeast</td>\n",
       "      <td>0.053115</td>\n",
       "      <td>3.0</td>\n",
       "    </tr>\n",
       "    <tr>\n",
       "      <th>3</th>\n",
       "      <td>33</td>\n",
       "      <td>male</td>\n",
       "      <td>22.705</td>\n",
       "      <td>0</td>\n",
       "      <td>no</td>\n",
       "      <td>northwest</td>\n",
       "      <td>0.333010</td>\n",
       "      <td>2.0</td>\n",
       "    </tr>\n",
       "    <tr>\n",
       "      <th>4</th>\n",
       "      <td>32</td>\n",
       "      <td>male</td>\n",
       "      <td>28.880</td>\n",
       "      <td>0</td>\n",
       "      <td>no</td>\n",
       "      <td>northwest</td>\n",
       "      <td>0.043816</td>\n",
       "      <td>3.0</td>\n",
       "    </tr>\n",
       "  </tbody>\n",
       "</table>\n",
       "</div>"
      ],
      "text/plain": [
       "   age     sex     bmi  children smoker     region   charges  bmiclass\n",
       "0   19  female  27.900         0    yes  southwest  0.251611       3.0\n",
       "1   18    male  33.770         1     no  southeast  0.009636       4.0\n",
       "2   28    male  33.000         3     no  southeast  0.053115       3.0\n",
       "3   33    male  22.705         0     no  northwest  0.333010       2.0\n",
       "4   32    male  28.880         0     no  northwest  0.043816       3.0"
      ]
     },
     "execution_count": 19,
     "metadata": {},
     "output_type": "execute_result"
    }
   ],
   "source": [
    "column = 'charges'\n",
    "insurance[column] = (insurance[column] - insurance[column].min()) / (insurance[column].max() - insurance[column].min())\n",
    "insurance.head()"
   ]
  },
  {
   "cell_type": "markdown",
   "id": "be164d4d",
   "metadata": {},
   "source": [
    "### Feature Selection"
   ]
  },
  {
   "cell_type": "markdown",
   "id": "ebbb2caf",
   "metadata": {},
   "source": [
    "We need to convert categorical data into numerical data. We will use the one-hot encoding for this conversion. One hot encoding is a technique where we replace the categorical data with binary digits. The converted column is given a number corresponding to the values.\n",
    "\n"
   ]
  },
  {
   "cell_type": "code",
   "execution_count": 22,
   "id": "e373cd1b",
   "metadata": {},
   "outputs": [],
   "source": [
    "from sklearn import preprocessing\n",
    "le = preprocessing.LabelEncoder()\n",
    "insurance[\"sex\"] = le.fit_transform(insurance[\"sex\"])       # 0 = female, 1 = male\n",
    "insurance[\"smoker\"] = le.fit_transform(insurance[\"smoker\"]) # 1 = smoker, 2 = non-smoker\n",
    "insurance[\"region\"] = le.fit_transform(insurance[\"region\"]) # 1 = northwest, 2 = southeast, 3 = southwest, 4 = northeast\n"
   ]
  },
  {
   "cell_type": "markdown",
   "id": "a07cc614",
   "metadata": {},
   "source": [
    "We will use the Pearson Correlation method to construct a correlation matrix that measures the linear association between features and target variables.\n"
   ]
  },
  {
   "cell_type": "code",
   "execution_count": 23,
   "id": "f7000196",
   "metadata": {},
   "outputs": [
    {
     "data": {
      "text/plain": [
       "<AxesSubplot: >"
      ]
     },
     "execution_count": 23,
     "metadata": {},
     "output_type": "execute_result"
    },
    {
     "data": {
      "image/png": "[encoded data removed]",
      "text/plain": [
       "<Figure size 800x600 with 2 Axes>"
      ]
     },
     "metadata": {},
     "output_type": "display_data"
    }
   ],
   "source": [
    "plt.figure(figsize=(8,6))  \n",
    "sns.heatmap(insurance.corr(), annot=True, fmt='.0%', cmap='Blues')"
   ]
  },
  {
   "cell_type": "markdown",
   "id": "e6b37475",
   "metadata": {},
   "source": [
    "Observations:\n",
    "\n",
    "- There is a strong correlation between smokers and charges.\n",
    "- There is a weak correlation between age and charges\n",
    "- There is a weak correlation between BMI and charges."
   ]
  },
  {
   "cell_type": "markdown",
   "id": "8e625a22",
   "metadata": {},
   "source": [
    "We need to remove sex and region features because they provide minimal value for this analysis. We will also remove the BMI class feature because BMI is already represented in the data set."
   ]
  },
  {
   "cell_type": "code",
   "execution_count": 24,
   "id": "ad5d6848",
   "metadata": {},
   "outputs": [],
   "source": [
    "insurance.drop(['sex', 'region', 'bmiclass'], axis=1, inplace=True)"
   ]
  },
  {
   "cell_type": "markdown",
   "id": "5acdb503",
   "metadata": {},
   "source": [
    "### Split the Data into Training and Test Data Sets"
   ]
  },
  {
   "cell_type": "markdown",
   "id": "b3953fa3",
   "metadata": {},
   "source": [
    "First, we need to divide our data into x values (the data we will use to make predictions) and y values (the data we are attempting to predict).\n",
    "\n"
   ]
  },
  {
   "cell_type": "code",
   "execution_count": 25,
   "id": "c12d3ab7",
   "metadata": {},
   "outputs": [],
   "source": [
    "x_data = insurance.drop('charges', axis = 1)\n",
    "y_data = insurance['charges']"
   ]
  },
  {
   "cell_type": "markdown",
   "id": "1c425577",
   "metadata": {},
   "source": [
    "We will use the train_test_split function to generate training data and test data. The test data set will include 25% of the original data set.\n"
   ]
  },
  {
   "cell_type": "code",
   "execution_count": 26,
   "id": "94fc7982",
   "metadata": {},
   "outputs": [],
   "source": [
    "x_training_data, x_test_data, y_training_data, y_test_data = train_test_split(x_data, y_data, test_size = 0.25, random_state=42)\n",
    "\n"
   ]
  },
  {
   "cell_type": "markdown",
   "id": "766a03b7",
   "metadata": {},
   "source": [
    "### Normalize the Data"
   ]
  },
  {
   "cell_type": "markdown",
   "id": "40329a97",
   "metadata": {},
   "source": [
    "We need to normalize the data so that its distribution will have a mean value of 0 and a standard deviation of 1. Normalization makes the features more consistent with each other, which allows the model to predict outputs more accurately. This is done for each feature or column in the data set."
   ]
  },
  {
   "cell_type": "code",
   "execution_count": 27,
   "id": "019f6929",
   "metadata": {},
   "outputs": [],
   "source": [
    "sc = StandardScaler()\n",
    "x_training_data = sc.fit_transform(x_training_data)\n",
    "x_test_data = sc.fit_transform(x_test_data)"
   ]
  },
  {
   "cell_type": "markdown",
   "id": "9d55d658",
   "metadata": {},
   "source": [
    "#### We will now train models, make predictions and evaluate the performance of three different machine learning models."
   ]
  },
  {
   "cell_type": "markdown",
   "id": "0fb26ba0",
   "metadata": {},
   "source": [
    "We will use the R2 score to evaluate the performance of the regression-based machine learning models. It is also known as the coefficient of determination. It works by measuring the amount of variance between samples in the dataset and the predictions made by the model."
   ]
  },
  {
   "cell_type": "markdown",
   "id": "1aaec52c",
   "metadata": {},
   "source": [
    "We will use Root Mean Squared Error (RMSE) to measure the performance of the models. The root means the squared error is a metric that shows the average distance between the predicted values from the model and the actual values in the dataset. RMSE is found by calculating the residual (difference between prediction and truth) for each data point, computing the norm of residuals for each data point, computing the mean of residuals and taking the square root of that mean. The lower the value, the better the model performs."
   ]
  },
  {
   "cell_type": "markdown",
   "id": "3c6c4786",
   "metadata": {},
   "source": [
    "### Linear Regression Model"
   ]
  },
  {
   "cell_type": "markdown",
   "id": "89e19ae3",
   "metadata": {},
   "source": [
    "Simple linear regression uses one independent variable to explain or predict the outcome of the dependent variable Y, while multiple linear regression uses two or more independent variables to predict the outcome. When creating a regression model, all that we are trying to do is draw a line that is closest to each point in a data set.\n",
    "\n"
   ]
  },
  {
   "cell_type": "code",
   "execution_count": 44,
   "id": "95244c16",
   "metadata": {},
   "outputs": [],
   "source": [
    "# We will train the linear regression model on the training data and make predictions on the test data\n",
    "\n",
    "# Create model object. \n",
    "lr = LinearRegression()\n",
    "# Train the model on the training data.\n",
    "lr.fit(x_training_data, y_training_data)\n",
    "# Make predictions on the test data. \n",
    "predictions_lr = lr.predict(x_test_data)"
   ]
  },
  {
   "cell_type": "markdown",
   "id": "6b3289dc",
   "metadata": {},
   "source": [
    "#### Calculate the R2 score for the linear regression model using the test data"
   ]
  },
  {
   "cell_type": "code",
   "execution_count": 73,
   "id": "08bd335f",
   "metadata": {
    "scrolled": true
   },
   "outputs": [
    {
     "name": "stdout",
     "output_type": "stream",
     "text": [
      "R2 score : 0.7656830523004188\n"
     ]
    }
   ],
   "source": [
    "from sklearn.metrics import r2_score\n",
    "\n",
    "lr_r2 = r2_score(y_test_data, predictions_lr)\n",
    "print(\"R2 score :\", lr_r2)"
   ]
  },
  {
   "cell_type": "markdown",
   "id": "08236d69",
   "metadata": {},
   "source": [
    "R2 Score: 0.7656830523004188"
   ]
  },
  {
   "cell_type": "markdown",
   "id": "7e40a3dd",
   "metadata": {},
   "source": [
    "#### The linear regression model accurately predicted 77% of the insurance claim charges based on the features of the policyholder.\n",
    "\n"
   ]
  },
  {
   "cell_type": "markdown",
   "id": "0ed939e5",
   "metadata": {},
   "source": [
    "Calculating the root mean squared error (RMSE) for the linear regression model."
   ]
  },
  {
   "cell_type": "code",
   "execution_count": 46,
   "id": "862a7057",
   "metadata": {},
   "outputs": [
    {
     "name": "stdout",
     "output_type": "stream",
     "text": [
      "0.09491233719646869\n"
     ]
    }
   ],
   "source": [
    "rmse = np.sqrt(np.mean(((predictions_lr - y_test_data)**2)))\n",
    "print(rmse)"
   ]
  },
  {
   "cell_type": "markdown",
   "id": "93abaf69",
   "metadata": {},
   "source": [
    "#### The RMSE shows that the linear regression model has a typical prediction error of .09, which is very good."
   ]
  },
  {
   "cell_type": "markdown",
   "id": "788bdee9",
   "metadata": {},
   "source": [
    "### Random Forrest Model"
   ]
  },
  {
   "cell_type": "markdown",
   "id": "960d7056",
   "metadata": {},
   "source": [
    "Random Forrest Model consists of a large number of individual decision trees that operate as an ensemble. Each individual tree in the random forest generates a class prediction and the class with the most votes becomes the model’s prediction. The fundamental idea behind a random forest is to combine many decision trees into a single model. Individually, predictions made by decision trees (or humans) may not be accurate but combined together, the predictions will be far more accurate."
   ]
  },
  {
   "cell_type": "code",
   "execution_count": 48,
   "id": "94f9ddd6",
   "metadata": {},
   "outputs": [],
   "source": [
    "# We will train the random forest model on the training data and make predictions on the test data.\n",
    "\n",
    "# Create model object. \n",
    "rf = RandomForestRegressor(n_estimators = 10, random_state = 0)\n",
    "# Train the model on the training data.\n",
    "rf.fit(x_training_data, y_training_data)\n",
    "# Make predictions on the test data. \n",
    "predictions_rf = rf.predict(x_test_data)\n"
   ]
  },
  {
   "cell_type": "markdown",
   "id": "9a941cb7",
   "metadata": {},
   "source": [
    "Calculating the R2 score for the random forest model using the test data"
   ]
  },
  {
   "cell_type": "code",
   "execution_count": 76,
   "id": "abf1705d",
   "metadata": {},
   "outputs": [
    {
     "name": "stdout",
     "output_type": "stream",
     "text": [
      "R2 Score : 0.8230230541174343\n"
     ]
    }
   ],
   "source": [
    "# Calculate the R2 score.\n",
    "rf_r2 = r2_score(y_test_data, predictions_rf)\n",
    "print(\"R2 Score :\", rf_r2)"
   ]
  },
  {
   "cell_type": "markdown",
   "id": "82f4f1ae",
   "metadata": {},
   "source": [
    "R2 Score: 0.8230230541174343"
   ]
  },
  {
   "cell_type": "markdown",
   "id": "4cfcf2df",
   "metadata": {},
   "source": [
    "#### The random forest model accurately predicted 82% of the insurance claim charges based on the features of the policyholder."
   ]
  },
  {
   "cell_type": "markdown",
   "id": "f57d2555",
   "metadata": {},
   "source": [
    "Calculating the root mean squared error (RMSE) for the random forest model"
   ]
  },
  {
   "cell_type": "code",
   "execution_count": 52,
   "id": "ebccf1a2",
   "metadata": {},
   "outputs": [
    {
     "name": "stdout",
     "output_type": "stream",
     "text": [
      "0.08248579515212683\n"
     ]
    }
   ],
   "source": [
    "rmse = np.sqrt(np.mean(((predictions_rf - y_test_data)**2)))\n",
    "print(rmse)"
   ]
  },
  {
   "cell_type": "markdown",
   "id": "890d6536",
   "metadata": {},
   "source": [
    "#### The RMSE shows that the random forest model has a typical prediction error of .08, which is very good."
   ]
  },
  {
   "cell_type": "markdown",
   "id": "fa462d28",
   "metadata": {},
   "source": [
    "### Support Vector Machine Model"
   ]
  },
  {
   "cell_type": "markdown",
   "id": "2aa260ba",
   "metadata": {},
   "source": [
    "Support Vector Machines (SVM) are supervised machine learning models with associated learning algorithms that analyze data and recognize patterns. Support vector machines can be used for both classification problems and regression problems. More specifically, an SVR model maps the data points as points in space and divides the separate categories so that they are divided by an open gap that is as wide as possible. New data points are predicted to belong to a category based on which side of the gap they fall into.\n",
    "\n"
   ]
  },
  {
   "cell_type": "code",
   "execution_count": 53,
   "id": "4808adb6",
   "metadata": {},
   "outputs": [],
   "source": [
    "# We will train the support vector machine model on the training data and make predictions on the test data.\n",
    "\n",
    "# Create model object. \n",
    "sv = SVR()\n",
    "# Train the model on the training data.\n",
    "sv.fit(x_training_data, y_training_data)\n",
    "# Make predictions on the test data. \n",
    "predictions_sv = sv.predict(x_test_data)"
   ]
  },
  {
   "cell_type": "markdown",
   "id": "291e23d5",
   "metadata": {},
   "source": [
    "Calculate the R2 score for the support vector machine model using the test data"
   ]
  },
  {
   "cell_type": "code",
   "execution_count": 75,
   "id": "3f480de3",
   "metadata": {},
   "outputs": [
    {
     "name": "stdout",
     "output_type": "stream",
     "text": [
      "R2 Score : 0.7393644729282558\n"
     ]
    }
   ],
   "source": [
    "sv_r2 = r2_score(y_test_data, predictions_sv)\n",
    "print(\"R2 Score :\", sv_r2)"
   ]
  },
  {
   "cell_type": "markdown",
   "id": "c7b22c80",
   "metadata": {},
   "source": [
    "R2 Score: 0.7395439745290365"
   ]
  },
  {
   "cell_type": "markdown",
   "id": "95100a9c",
   "metadata": {},
   "source": [
    "#### The support vector machine model accurately predicted 74% of the insurance claim charges based on the features of the policyholder."
   ]
  },
  {
   "cell_type": "markdown",
   "id": "6b041ed8",
   "metadata": {},
   "source": [
    "Calculating the root mean squared error (RMSE) for the support vector machine model"
   ]
  },
  {
   "cell_type": "code",
   "execution_count": 55,
   "id": "8d9b3866",
   "metadata": {},
   "outputs": [
    {
     "name": "stdout",
     "output_type": "stream",
     "text": [
      "0.10010081746903923\n"
     ]
    }
   ],
   "source": [
    "rmse = np.sqrt(np.mean(((predictions_sv - y_test_data)**2)))\n",
    "print(rmse)"
   ]
  },
  {
   "cell_type": "markdown",
   "id": "819c35d2",
   "metadata": {},
   "source": [
    "#### The RMSE shows that the support vector machine model has a typical prediction error of .10, which is very good."
   ]
  },
  {
   "cell_type": "code",
   "execution_count": 77,
   "id": "92d0007d",
   "metadata": {
    "scrolled": true
   },
   "outputs": [
    {
     "data": {
      "text/html": [
       "<div>\n",
       "<style scoped>\n",
       "    .dataframe tbody tr th:only-of-type {\n",
       "        vertical-align: middle;\n",
       "    }\n",
       "\n",
       "    .dataframe tbody tr th {\n",
       "        vertical-align: top;\n",
       "    }\n",
       "\n",
       "    .dataframe thead th {\n",
       "        text-align: right;\n",
       "    }\n",
       "</style>\n",
       "<table border=\"1\" class=\"dataframe\">\n",
       "  <thead>\n",
       "    <tr style=\"text-align: right;\">\n",
       "      <th></th>\n",
       "      <th>Model</th>\n",
       "      <th>Accuracy_score</th>\n",
       "    </tr>\n",
       "  </thead>\n",
       "  <tbody>\n",
       "    <tr>\n",
       "      <th>0</th>\n",
       "      <td>Linear Regression</td>\n",
       "      <td>0.765683</td>\n",
       "    </tr>\n",
       "    <tr>\n",
       "      <th>1</th>\n",
       "      <td>Random Forrest</td>\n",
       "      <td>0.823023</td>\n",
       "    </tr>\n",
       "    <tr>\n",
       "      <th>2</th>\n",
       "      <td>Support Vector Machine</td>\n",
       "      <td>0.739364</td>\n",
       "    </tr>\n",
       "  </tbody>\n",
       "</table>\n",
       "</div>"
      ],
      "text/plain": [
       "                    Model  Accuracy_score\n",
       "0       Linear Regression        0.765683\n",
       "1          Random Forrest        0.823023\n",
       "2  Support Vector Machine        0.739364"
      ]
     },
     "execution_count": 77,
     "metadata": {},
     "output_type": "execute_result"
    }
   ],
   "source": [
    "# Printing the accuracy scores for each of the models\n",
    "\n",
    "from sklearn.metrics import accuracy_score\n",
    "\n",
    "models = pd.DataFrame({\n",
    "    'Model':['Linear Regression', 'Random Forrest', 'Support Vector Machine'],\n",
    "    'Accuracy_score' :[lr_r2, rf_r2, sv_r2]\n",
    "})\n",
    "models\n",
    "\n",
    "# sns.barplot(x='Accuracy_score', y='Model', data=models)\n",
    "\n",
    "# models.sort_values(by='Accuracy_score', ascending=False)"
   ]
  },
  {
   "cell_type": "code",
   "execution_count": 78,
   "id": "5229918b",
   "metadata": {},
   "outputs": [
    {
     "data": {
      "text/plain": [
       "<AxesSubplot: xlabel='Accuracy_score', ylabel='Model'>"
      ]
     },
     "execution_count": 78,
     "metadata": {},
     "output_type": "execute_result"
    },
    {
     "data": {
      "image/png": "[encoded data removed]",
      "text/plain": [
       "<Figure size 640x480 with 1 Axes>"
      ]
     },
     "metadata": {},
     "output_type": "display_data"
    }
   ],
   "source": [
    "sns.barplot(x='Accuracy_score', y='Model', data=models)"
   ]
  },
  {
   "cell_type": "markdown",
   "id": "714765b6",
   "metadata": {},
   "source": [
    "Conclusions: \n",
    "\n",
    "All of the models did a good job in predicting insurance claim charges based on the characteristics of the policyholders. \n",
    "The random forest model had the highest accuracy score. This model correctly predicted 82% of insurance claim charges. This model also has a typical prediction error of .08. The study can be improved by having a larger insurance data set and by tweaking the model's hyper-parameters."
   ]
  }
 ],
 "metadata": {
  "kernelspec": {
   "display_name": "Python 3",
   "language": "python",
   "name": "python3"
  },
  "language_info": {
   "codemirror_mode": {
    "name": "ipython",
    "version": 3
   },
   "file_extension": ".py",
   "mimetype": "text/x-python",
   "name": "python",
   "nbconvert_exporter": "python",
   "pygments_lexer": "ipython3",
   "version": "3.9.1"
  }
 },
 "nbformat": 4,
 "nbformat_minor": 5
}
